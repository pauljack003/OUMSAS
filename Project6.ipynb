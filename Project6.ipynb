{
  "nbformat": 4,
  "nbformat_minor": 0,
  "metadata": {
    "colab": {
      "provenance": [],
      "authorship_tag": "ABX9TyOx7grBdeWRf/OgRkfb0OGl",
      "include_colab_link": true
    },
    "kernelspec": {
      "name": "python3",
      "display_name": "Python 3"
    },
    "language_info": {
      "name": "python"
    }
  },
  "cells": [
    {
      "cell_type": "markdown",
      "metadata": {
        "id": "view-in-github",
        "colab_type": "text"
      },
      "source": [
        "<a href=\"https://colab.research.google.com/github/pauljack003/OUMSAS/blob/main/Project6.ipynb\" target=\"_parent\"><img src=\"https://colab.research.google.com/assets/colab-badge.svg\" alt=\"Open In Colab\"/></a>"
      ]
    },
    {
      "cell_type": "markdown",
      "source": [
        "# Project: Linux Commands and File Management\n",
        "\n",
        "## Task 1: Directory and File Management\n",
        "\n",
        "* Create a directory named \"project\"\n"
      ],
      "metadata": {
        "id": "9Qe05XS_4OEd"
      }
    },
    {
      "cell_type": "code",
      "execution_count": 1,
      "metadata": {
        "id": "ElZRtvve39Vs"
      },
      "outputs": [],
      "source": [
        "!mkdir project"
      ]
    },
    {
      "cell_type": "markdown",
      "source": [
        "* inside the \"project\" directory, create two subdirectories: \"reports\" and \"resources\""
      ],
      "metadata": {
        "id": "wjtQtm8L4o-n"
      }
    },
    {
      "cell_type": "code",
      "source": [
        "!mkdir project/reports\n",
        "!mkdir project/resources"
      ],
      "metadata": {
        "id": "LLQXyag14yF6"
      },
      "execution_count": 2,
      "outputs": []
    },
    {
      "cell_type": "markdown",
      "source": [
        "* Create three files inside the \"reports\" directory: \"progress.txt\", \"budget.txt\", and \"summary.txt\""
      ],
      "metadata": {
        "id": "-rd9uZxx40cb"
      }
    },
    {
      "cell_type": "code",
      "source": [
        "!touch project/reports/progress.txt\n",
        "!touch project/reports/budget.txt\n",
        "!touch project/reports/summary.txt"
      ],
      "metadata": {
        "id": "AN1DJRat435R"
      },
      "execution_count": 3,
      "outputs": []
    },
    {
      "cell_type": "markdown",
      "source": [
        "* Move \"budget.txt\" from the \"reports\" directory to the \"resources\" directory"
      ],
      "metadata": {
        "id": "UYO5GloG44u7"
      }
    },
    {
      "cell_type": "code",
      "source": [
        "!mv project/reports/budget.txt project/resources/"
      ],
      "metadata": {
        "id": "wOum_LnF48Lx"
      },
      "execution_count": 4,
      "outputs": []
    },
    {
      "cell_type": "markdown",
      "source": [
        "* Delete the \"summary.txt\" file from the \"reports\" directory."
      ],
      "metadata": {
        "id": "j2klrqL748rS"
      }
    },
    {
      "cell_type": "code",
      "source": [
        "!rm project/reports/summary.txt"
      ],
      "metadata": {
        "id": "yMJ0b86M4_ay"
      },
      "execution_count": 5,
      "outputs": []
    },
    {
      "cell_type": "markdown",
      "source": [
        "## Task 2: System Analysis\n",
        "\n",
        "* Determine the Linux distribution and version"
      ],
      "metadata": {
        "id": "aELn8OIG5EDZ"
      }
    },
    {
      "cell_type": "code",
      "source": [
        "!lsb_release -a"
      ],
      "metadata": {
        "colab": {
          "base_uri": "https://localhost:8080/"
        },
        "id": "nwb_Y_Ji5SNo",
        "outputId": "1b816c91-cc9f-4ffc-ceaa-629a8837115b"
      },
      "execution_count": 6,
      "outputs": [
        {
          "output_type": "stream",
          "name": "stdout",
          "text": [
            "No LSB modules are available.\n",
            "Distributor ID:\tUbuntu\n",
            "Description:\tUbuntu 22.04.3 LTS\n",
            "Release:\t22.04\n",
            "Codename:\tjammy\n"
          ]
        }
      ]
    },
    {
      "cell_type": "markdown",
      "source": [
        "* Display the kernel version and architecture"
      ],
      "metadata": {
        "id": "Nhp8Y6Yf5S6b"
      }
    },
    {
      "cell_type": "code",
      "source": [
        "!uname -r\n",
        "!uname -m"
      ],
      "metadata": {
        "colab": {
          "base_uri": "https://localhost:8080/"
        },
        "id": "CSNA0UCn5WNX",
        "outputId": "90614d58-e746-44df-84b1-390507af4cc7"
      },
      "execution_count": 7,
      "outputs": [
        {
          "output_type": "stream",
          "name": "stdout",
          "text": [
            "6.1.85+\n",
            "x86_64\n"
          ]
        }
      ]
    },
    {
      "cell_type": "markdown",
      "source": [
        "* Check the available disk space and memory usage"
      ],
      "metadata": {
        "id": "PQnhJqV65WxD"
      }
    },
    {
      "cell_type": "code",
      "source": [
        "!df -h\n",
        "!free -h"
      ],
      "metadata": {
        "colab": {
          "base_uri": "https://localhost:8080/"
        },
        "id": "aN02Jt0H5b45",
        "outputId": "961f0e0c-943c-4156-9197-90c607c9cd74"
      },
      "execution_count": 8,
      "outputs": [
        {
          "output_type": "stream",
          "name": "stdout",
          "text": [
            "Filesystem      Size  Used Avail Use% Mounted on\n",
            "overlay         108G   28G   81G  26% /\n",
            "tmpfs            64M     0   64M   0% /dev\n",
            "shm             5.8G     0  5.8G   0% /dev/shm\n",
            "/dev/root       2.0G  1.2G  820M  59% /usr/sbin/docker-init\n",
            "tmpfs           6.4G  320K  6.4G   1% /var/colab\n",
            "/dev/sda1        70G   46G   24G  66% /kaggle/input\n",
            "tmpfs           6.4G     0  6.4G   0% /proc/acpi\n",
            "tmpfs           6.4G     0  6.4G   0% /proc/scsi\n",
            "tmpfs           6.4G     0  6.4G   0% /sys/firmware\n",
            "               total        used        free      shared  buff/cache   available\n",
            "Mem:            12Gi       751Mi       7.2Gi       1.0Mi       4.8Gi        11Gi\n",
            "Swap:             0B          0B          0B\n"
          ]
        }
      ]
    }
  ]
}